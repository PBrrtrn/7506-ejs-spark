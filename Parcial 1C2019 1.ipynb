{
 "cells": [
  {
   "cell_type": "code",
   "execution_count": 1,
   "metadata": {},
   "outputs": [],
   "source": [
    "import pyspark\n",
    "import numpy as np\n",
    "\n",
    "try:\n",
    "    type(sc)\n",
    "except NameError:\n",
    "    sc = pyspark.SparkContext('local[*]')"
   ]
  },
  {
   "cell_type": "code",
   "execution_count": 2,
   "metadata": {},
   "outputs": [],
   "source": [
    "# bases = (id_base, nombre, pcia, ciudad, lat, lon)\n",
    "# mediciones = (timestamp, id_base, temperatura, humedad, presion, direccion viento, velocidad_viento)\n",
    "\n",
    "# Hallar por id y nombre las bases en Buenos Aires que hayan registrado una variacion de temperatura promedio mayor\n",
    "# a 30% entre dos meses consecutivos"
   ]
  },
  {
   "cell_type": "code",
   "execution_count": 3,
   "metadata": {},
   "outputs": [
    {
     "data": {
      "text/plain": [
       "[('2015-05-11', 1, 15, 23, 180, 'Norte', 22),\n",
       " ('2015-06-11', 1, 15.4, 24, 190, 'Noreste', 24),\n",
       " ('2011-02-15', 2, 4, 60, 320, 'Sureste', 36),\n",
       " ('2011-03-15', 2, 32, 75, 310, 'Sur', 20),\n",
       " ('2018-05-16', 3, 13, 43, 280, 'Norte', 16)]"
      ]
     },
     "execution_count": 3,
     "metadata": {},
     "output_type": "execute_result"
    }
   ],
   "source": [
    "bases = [\n",
    "    (1, 'Base Matanza', 'Buenos Aires', 'la Matanza', 110, 135),\n",
    "    (2, 'Base Blanca', 'Buenos Aires', 'Bahia Blanca', 134, 190),\n",
    "    (3, 'El Venadito', 'Santa Fe', 'Venado Tuerto', 220, 420)\n",
    "]\n",
    "\n",
    "mediciones = [\n",
    "    ('2015-05-11', 1, 15, 23, 180, 'Norte', 22),\n",
    "    ('2015-06-11', 1, 15.4, 24, 190, 'Noreste', 24),\n",
    "    ('2011-02-15', 2, 4, 60, 320, 'Sureste', 36),\n",
    "    ('2011-03-15', 2, 32, 75, 310, 'Sur', 20),\n",
    "    ('2018-05-16', 3, 13, 43, 280, 'Norte', 16),\n",
    "    ('2018-06-16', 3, 27, 45, 285, 'Norte', 19)\n",
    "]\n",
    "\n",
    "bases_rdd = sc.parallelize(bases)\n",
    "mediciones_rdd = sc.parallelize(mediciones)\n",
    "\n",
    "mediciones_rdd.take(5)"
   ]
  },
  {
   "cell_type": "code",
   "execution_count": 27,
   "metadata": {},
   "outputs": [
    {
     "data": {
      "text/plain": [
       "[((2, 'Base Blanca'), (4.0, 32.0))]"
      ]
     },
     "execution_count": 27,
     "metadata": {},
     "output_type": "execute_result"
    }
   ],
   "source": [
    "def diferencia_de_30(promedios_mensuales):\n",
    "    for i in range (1, len(promedios_mensuales)):\n",
    "        variacion_positiva = promedios_mensuales[i]/promedios_mensuales[i-1]\n",
    "        variacion_negativa = promedios_mensuales[i-1]/promedios_mensuales[i]\n",
    "        if (variacion_positiva >= 1.3 or variacion_negativa >= 1.3):\n",
    "            return True\n",
    "    return False\n",
    "        \n",
    "\n",
    "bases_bs_as = bases_rdd.map(lambda x: (x[0], (x[1], x[2])))\\\n",
    "             .filter(lambda x: x[1][1] == 'Buenos Aires')\\\n",
    "             .map(lambda x: (x[0], x[1][0]))\n",
    "\n",
    "variacion_30 = mediciones_rdd.map(lambda x: (x[1], (x[0], x[2])))\\\n",
    "                             .join(bases_bs_as)\\\n",
    "                             .map(lambda x: ((x[0], x[1][1], x[1][0][0][0:7]), (x[1][0][1], 1)))\\\n",
    "                             .reduceByKey(lambda x,y: (x[0]+y[0], x[1], y[1]))\\\n",
    "                             .map(lambda x: ((x[0][0], x[0][1]), (x[1][0]/x[1][1], x[0][2])))\\\n",
    "                             .sortBy(lambda x: x[1][1])\\\n",
    "                             .reduceByKey(lambda x,y: (x[0],y[0]))\\\n",
    "                             .filter(lambda x: diferencia_de_30(x[1]))\n",
    "\n",
    "variacion_30.take(5)"
   ]
  },
  {
   "cell_type": "code",
   "execution_count": null,
   "metadata": {},
   "outputs": [],
   "source": []
  }
 ],
 "metadata": {
  "kernelspec": {
   "display_name": "Python 3",
   "language": "python",
   "name": "python3"
  },
  "language_info": {
   "codemirror_mode": {
    "name": "ipython",
    "version": 3
   },
   "file_extension": ".py",
   "mimetype": "text/x-python",
   "name": "python",
   "nbconvert_exporter": "python",
   "pygments_lexer": "ipython3",
   "version": "3.5.3"
  }
 },
 "nbformat": 4,
 "nbformat_minor": 2
}
