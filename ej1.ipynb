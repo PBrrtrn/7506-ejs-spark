{
 "cells": [
  {
   "cell_type": "code",
   "execution_count": 1,
   "metadata": {},
   "outputs": [],
   "source": [
    "import pyspark\n",
    "from datetime import datetime as dt\n",
    "\n",
    "try: \n",
    "    type(sc)\n",
    "except NameError:\n",
    "    sc = pyspark.SparkContext('local[*]')  "
   ]
  },
  {
   "cell_type": "code",
   "execution_count": 2,
   "metadata": {},
   "outputs": [],
   "source": [
    "# RDD de la forma [(padron, materia, nota, fecha), ...]\n",
    "# Otro RDD con forma [(padron, nombre), ...]\n",
    "\n",
    "# A) Alumnos que hayan aprobado al menos una materia en los ultimos dos años\n",
    "# B) RDD con el promedio de notas de cada alumno por padron\n",
    "# C) Nombre y padron del alumno con el mejor promedio"
   ]
  },
  {
   "cell_type": "code",
   "execution_count": 3,
   "metadata": {},
   "outputs": [],
   "source": [
    "notas = [(98446, '75.06', 95, '12-10-2019'),\n",
    "         (71532, '64.01', 60, '03-12-2009'),\n",
    "         (83456, '76.02', 40, '02-20-2019'),\n",
    "         (123634, '96.20', 20, '10-10-2000'),\n",
    "         (100231, '66.02', 30, '02-13-2007'),\n",
    "         (54632, '75.06', 60, '08-02-2014'),\n",
    "         (96545, '90.02', 70, '09-12-2010'),\n",
    "         (98446, '64.01', 80, '12-21-2003'),\n",
    "         (54256, '77.70', 10, '02-12-2011'),\n",
    "         (98446, '75.08', 65, '12-10-2019'),\n",
    "         (71532, '64.03', 60, '03-12-2009'),\n",
    "         (83456, '76.04', 40, '02-20-2019'),\n",
    "         (123634, '96.25', 10, '10-10-2000'),\n",
    "         (100231, '66.04', 100, '02-13-2007'),\n",
    "         (54632, '75.02', 60, '08-02-2014'),\n",
    "         (96545, '90.06', 60, '09-12-2010'),\n",
    "         (98446, '64.12', 70, '12-29-2003'),\n",
    "         (54256, '77.70', 40, '02-20-2011'),\n",
    "         (101020, '75.06', 60, '11-12-2019')\n",
    "        ]\n",
    "\n",
    "date_format = '%m-%d-%Y'\n",
    "\n",
    "notas_rdd = sc.parallelize(notas).map(lambda x: (x[0], x[1], x[2], dt.strptime(x[3], date_format) ))"
   ]
  },
  {
   "cell_type": "code",
   "execution_count": 4,
   "metadata": {},
   "outputs": [
    {
     "data": {
      "text/plain": [
       "[101020, 98446]"
      ]
     },
     "execution_count": 4,
     "metadata": {},
     "output_type": "execute_result"
    }
   ],
   "source": [
    "cutoff_date = dt.strptime('11-13-2017', date_format)\n",
    "\n",
    "aprobados = notas_rdd.filter(lambda x: x[2] >= 60 and x[3] >= cutoff_date).keys().distinct()\n",
    "aprobados.take(5)"
   ]
  },
  {
   "cell_type": "code",
   "execution_count": 5,
   "metadata": {},
   "outputs": [
    {
     "data": {
      "text/plain": [
       "[(83456, 40.0), (54632, 60.0), (101020, 60.0), (71532, 60.0), (54256, 25.0)]"
      ]
     },
     "execution_count": 5,
     "metadata": {},
     "output_type": "execute_result"
    }
   ],
   "source": [
    "promedios = sc.parallelize(notas).map(lambda x: (x[0], (x[2], 1))).reduceByKey(lambda x, y: (x[0] + y[0], x[1] + y[1])).map(lambda x: (x[0], x[1][0]/x[1][1]))\n",
    "promedios.take(5)"
   ]
  },
  {
   "cell_type": "code",
   "execution_count": 6,
   "metadata": {},
   "outputs": [
    {
     "data": {
      "text/plain": [
       "[(98446, 'Berrotaran Pablo', 77.5)]"
      ]
     },
     "execution_count": 6,
     "metadata": {},
     "output_type": "execute_result"
    }
   ],
   "source": [
    "nombres = [\n",
    "    (98446, 'Berrotaran Pablo'),\n",
    "    (101020, 'Pinera, Agustin'),\n",
    "    (54256, 'Gomez, Jorge'),\n",
    "    (96545, 'Fernandez, Fernando'),\n",
    "    (54632, 'Jamiroquai, Pepito'),\n",
    "    (100231, 'Redis, Camila'),\n",
    "    (123634, 'Postgres, Rodolfo'),\n",
    "    (83456, 'Mongo, Dongo'),\n",
    "    (71532, 'Kibana, Mutimbi'),\n",
    "]\n",
    "\n",
    "nombres_rdd = sc.parallelize(nombres).map(lambda x: (x[0], (x[1])))\n",
    "\n",
    "top_promedio = sc.parallelize(promedios.top(1, key=lambda x: x[1])).map(lambda x: (x[0],(x[1]))).join(nombres_rdd).map(lambda x: (x[0], x[1][1], x[1][0]))\n",
    "top_promedio.take(5)"
   ]
  },
  {
   "cell_type": "code",
   "execution_count": null,
   "metadata": {},
   "outputs": [],
   "source": []
  }
 ],
 "metadata": {
  "kernelspec": {
   "display_name": "Python 3",
   "language": "python",
   "name": "python3"
  },
  "language_info": {
   "codemirror_mode": {
    "name": "ipython",
    "version": 3
   },
   "file_extension": ".py",
   "mimetype": "text/x-python",
   "name": "python",
   "nbconvert_exporter": "python",
   "pygments_lexer": "ipython3",
   "version": "3.5.3"
  }
 },
 "nbformat": 4,
 "nbformat_minor": 2
}
