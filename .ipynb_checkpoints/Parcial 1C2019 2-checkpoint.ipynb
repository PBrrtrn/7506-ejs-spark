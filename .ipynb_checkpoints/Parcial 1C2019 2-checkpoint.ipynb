{
 "cells": [
  {
   "cell_type": "code",
   "execution_count": 7,
   "metadata": {},
   "outputs": [],
   "source": [
    "import pyspark\n",
    "\n",
    "try:\n",
    "    type(sc)\n",
    "except NameError:\n",
    "    sc = pyspark.SparkContext('local[*]')"
   ]
  },
  {
   "cell_type": "code",
   "execution_count": 8,
   "metadata": {},
   "outputs": [],
   "source": [
    "# modelos = (marca, modelo, origen)\n",
    "# ventas = (marca, modelo, fecha, concesionario)\n",
    "\n",
    "# Hallar para los modelos de origen nacional los modelos descontinuados (sin ventas en los ultimos 12 meses)\n",
    "# en un RDD con la forma (marca, modelo, total_vendido, fecha_inicio_venta, fecha_discontinuación)"
   ]
  },
  {
   "cell_type": "code",
   "execution_count": 9,
   "metadata": {},
   "outputs": [
    {
     "data": {
      "text/plain": [
       "[('Fiat', 'Uno', 'Italia'),\n",
       " ('Citroen', '3CV', 'Argentina'),\n",
       " ('Ford', 'Focus', 'Argentina'),\n",
       " ('Volkswagen', 'T', 'Alemania')]"
      ]
     },
     "execution_count": 9,
     "metadata": {},
     "output_type": "execute_result"
    }
   ],
   "source": [
    "modelos = [\n",
    "    ('Fiat', 'Uno', 'Italia'),\n",
    "    ('Citroen', '3CV', 'Argentina'),\n",
    "    ('Ford', 'Focus', 'Argentina'),\n",
    "    ('Volkswagen', 'T', 'Alemania')\n",
    "]\n",
    "\n",
    "ventas = [\n",
    "    ('Volkswagen', 'T', '1949-08-11', 'Gurtslischwagen Und Sohne'),\n",
    "    ('Volkswagen', 'T', '1944-02-27', 'Gurtslischwagen Und Sohne'),\n",
    "    ('Volkswagen', 'T', '1947-12-05', 'Gurtslischwagen Und Sohne'),\n",
    "    ('Fiat', 'Uno', '2019-01-13', 'Lopez Autos'),\n",
    "    ('Citroen', '3CV', '1977-03-02', 'Concecionaria Gomez'),\n",
    "    ('Citroen', '3CV', '1979-09-09', 'Concecionaria Gomez'),\n",
    "    ('Ford', 'Focus', '2019-09-14', 'Concecionaria Gomez')\n",
    "]\n",
    "\n",
    "modelos_rdd = sc.parallelize(modelos)\n",
    "ventas_rdd = sc.parallelize(ventas)\n",
    "\n",
    "modelos_rdd.take(5)"
   ]
  },
  {
   "cell_type": "code",
   "execution_count": 15,
   "metadata": {},
   "outputs": [
    {
     "data": {
      "text/plain": [
       "[('Citroen', '3CV', '1979-09-09', '1977-03-02')]"
      ]
     },
     "execution_count": 15,
     "metadata": {},
     "output_type": "execute_result"
    }
   ],
   "source": [
    "modelos_nacionales = modelos_rdd.filter(lambda x: x[2] == 'Argentina')\\\n",
    "                                .map(lambda x: ((x[0], x[1]), x[2]))\n",
    "\n",
    "modelos_descontinuados = ventas_rdd.map(lambda x: ((x[0], x[1]), (x[2], x[2])))\\\n",
    "                                   .join(modelos_nacionales)\\\n",
    "                                   .map(lambda x: (x[0], (x[1][0])))\\\n",
    "                                   .reduceByKey(lambda x,y: (max(x[0],y[0]), min(x[1],y[1]) ) )\\\n",
    "                                   .filter(lambda x: x[1][0] <= '2018-11-17')\\\n",
    "                                   .map(lambda x: (x[0][0], x[0][1], x[1][0], x[1][1]))\n",
    "\n",
    "modelos_descontinuados.take(5)"
   ]
  },
  {
   "cell_type": "code",
   "execution_count": null,
   "metadata": {},
   "outputs": [],
   "source": []
  }
 ],
 "metadata": {
  "kernelspec": {
   "display_name": "Python 3",
   "language": "python",
   "name": "python3"
  },
  "language_info": {
   "codemirror_mode": {
    "name": "ipython",
    "version": 3
   },
   "file_extension": ".py",
   "mimetype": "text/x-python",
   "name": "python",
   "nbconvert_exporter": "python",
   "pygments_lexer": "ipython3",
   "version": "3.5.3"
  }
 },
 "nbformat": 4,
 "nbformat_minor": 2
}
