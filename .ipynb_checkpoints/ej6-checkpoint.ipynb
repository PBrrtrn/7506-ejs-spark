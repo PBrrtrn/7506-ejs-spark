{
 "cells": [
  {
   "cell_type": "code",
   "execution_count": 1,
   "metadata": {},
   "outputs": [],
   "source": [
    "import pyspark\n",
    "import numpy as np\n",
    "\n",
    "try:\n",
    "    type(sc)\n",
    "except NameError:\n",
    "    sc = pyspark.SparkContext('local[*]')"
   ]
  },
  {
   "cell_type": "code",
   "execution_count": 2,
   "metadata": {},
   "outputs": [],
   "source": [
    "# trip_summary = (driver_id ,car_id ,trip_id ,customer_id ,date(YYYYMMDD), distance_traveled)\n",
    "# Hallar el conductor con mayor distancia de viaje promedio en Abril de 2016"
   ]
  },
  {
   "cell_type": "code",
   "execution_count": 11,
   "metadata": {},
   "outputs": [
    {
     "data": {
      "text/plain": [
       "[(28, 28, 0, 4909, '2012-1-20', 1274),\n",
       " (46, 46, 1, 8995, '2012-5-17', 2279),\n",
       " (47, 47, 2, 7937, '2010-12-24', 1248),\n",
       " (42, 42, 3, 4135, '2015-11-4', 2498),\n",
       " (41, 41, 4, 969, '2014-9-27', 462)]"
      ]
     },
     "execution_count": 11,
     "metadata": {},
     "output_type": "execute_result"
    }
   ],
   "source": [
    "def random_ids():\n",
    "    ids = np.random.randint(1,51)\n",
    "    return (ids, ids)\n",
    "\n",
    "def random_customer_id():\n",
    "    return np.random.randint(1, 10000)\n",
    "\n",
    "def random_date():\n",
    "    year = np.random.randint(2010, 2020)\n",
    "    month = np.random.randint(1, 13)\n",
    "    day = np.random.randint(1, 29)\n",
    "    return str(year)+'-'+str(month)+'-'+str(day)\n",
    "    \n",
    "def random_distance():\n",
    "    return np.random.randint(400, 3000)\n",
    "\n",
    "trip_summary = []\n",
    "for i in range(30000):\n",
    "    trip_summary.append((random_ids(), i, random_customer_id(), random_date(), random_distance()) )\n",
    "    \n",
    "trip_summary_rdd = sc.parallelize(trip_summary)\\\n",
    "                     .map(lambda x: (x[0][0], x[0][1], x[1], x[2], x[3], x[4]))\n",
    "  \n",
    "trip_summary_rdd.take(5)"
   ]
  },
  {
   "cell_type": "code",
   "execution_count": 23,
   "metadata": {},
   "outputs": [
    {
     "name": "stdout",
     "output_type": "stream",
     "text": [
      "El chofer con mayor distancia promedio fue el #15 con 2837m recorridos\n"
     ]
    }
   ],
   "source": [
    "mayor_distancia_promedio = trip_summary_rdd.filter(lambda x: x[4].startswith('2016-4'))\\\n",
    "                                           .map(lambda x: (x[0], (x[5], 1)))\\\n",
    "                                           .reduceByKey(lambda x, y: (x[0]+y[0], x[1]+y[1]))\\\n",
    "                                           .map(lambda x: (x[0], x[1][0]/x[1][1]))\\\n",
    "                                           .top(1, key=lambda x: x[1])\n",
    "\n",
    "print(\"El chofer con mayor distancia promedio fue el #%i con %im recorridos\" % mayor_distancia_promedio[0])"
   ]
  },
  {
   "cell_type": "code",
   "execution_count": null,
   "metadata": {},
   "outputs": [],
   "source": []
  }
 ],
 "metadata": {
  "kernelspec": {
   "display_name": "Python 3",
   "language": "python",
   "name": "python3"
  },
  "language_info": {
   "codemirror_mode": {
    "name": "ipython",
    "version": 3
   },
   "file_extension": ".py",
   "mimetype": "text/x-python",
   "name": "python",
   "nbconvert_exporter": "python",
   "pygments_lexer": "ipython3",
   "version": "3.5.3"
  }
 },
 "nbformat": 4,
 "nbformat_minor": 2
}
