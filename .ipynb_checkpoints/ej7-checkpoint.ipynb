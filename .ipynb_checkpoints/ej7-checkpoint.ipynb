{
 "cells": [
  {
   "cell_type": "code",
   "execution_count": 1,
   "metadata": {},
   "outputs": [],
   "source": [
    "import pyspark\n",
    "\n",
    "try:\n",
    "    type(sc)\n",
    "except NameError:\n",
    "    sc = pyspark.SparkContext('local[*]')"
   ]
  },
  {
   "cell_type": "code",
   "execution_count": 2,
   "metadata": {},
   "outputs": [],
   "source": [
    "# mensajes = (chat_id, user_id, mensaje)\n",
    "# Hallar el user por id que realiza la mayor cantidad de preguntas"
   ]
  },
  {
   "cell_type": "code",
   "execution_count": 3,
   "metadata": {},
   "outputs": [],
   "source": [
    "mensajes = [\n",
    "    (1, 1, 'Hola'),\n",
    "    (1, 2, 'Hola!'),\n",
    "    (1, 1, 'Que es esto?'),\n",
    "    (1, 2, 'Un chat'),\n",
    "    (1, 1, 'Y de donde salio? Whatsapp?'),\n",
    "    (1, 2, 'Exacto, como supiste?')\n",
    "]\n",
    "\n",
    "mensajes_rdd = sc.parallelize(mensajes)"
   ]
  },
  {
   "cell_type": "code",
   "execution_count": 4,
   "metadata": {},
   "outputs": [
    {
     "data": {
      "text/plain": [
       "[(1, 3)]"
      ]
     },
     "execution_count": 4,
     "metadata": {},
     "output_type": "execute_result"
    }
   ],
   "source": [
    "def count_questions(array):\n",
    "    count = 0\n",
    "    for char in array:\n",
    "        if (char == '?'):\n",
    "            count = count + 1\n",
    "    return count\n",
    "\n",
    "usuario_con_mas_preguntas = mensajes_rdd.map(lambda x: (x[1], list(x[2]) ) )\\\n",
    "                                        .map(lambda x: (x[0], count_questions(x[1])))\\\n",
    "                                        .reduceByKey(lambda x, y: x + y)\\\n",
    "                                        .top(1, key=lambda x: x[1])\n",
    "\n",
    "usuario_con_mas_preguntas"
   ]
  },
  {
   "cell_type": "code",
   "execution_count": null,
   "metadata": {},
   "outputs": [],
   "source": []
  }
 ],
 "metadata": {
  "kernelspec": {
   "display_name": "Python 3",
   "language": "python",
   "name": "python3"
  },
  "language_info": {
   "codemirror_mode": {
    "name": "ipython",
    "version": 3
   },
   "file_extension": ".py",
   "mimetype": "text/x-python",
   "name": "python",
   "nbconvert_exporter": "python",
   "pygments_lexer": "ipython3",
   "version": "3.5.3"
  }
 },
 "nbformat": 4,
 "nbformat_minor": 2
}
