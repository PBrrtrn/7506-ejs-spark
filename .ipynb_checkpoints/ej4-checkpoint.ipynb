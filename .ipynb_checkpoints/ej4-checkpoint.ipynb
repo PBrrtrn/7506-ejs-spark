{
 "cells": [
  {
   "cell_type": "code",
   "execution_count": 1,
   "metadata": {},
   "outputs": [],
   "source": [
    "import pyspark\n",
    "import numpy as np\n",
    "\n",
    "try:\n",
    "    type(sc)\n",
    "except NameError:\n",
    "    sc = pyspark.SparkContext('local[*]')"
   ]
  },
  {
   "cell_type": "code",
   "execution_count": 2,
   "metadata": {},
   "outputs": [],
   "source": [
    "# coordenadas = (x1, x2, y1, y2)\n",
    "# hallar el rectangulo de superficie minima que incluya el punto (a,b)"
   ]
  },
  {
   "cell_type": "code",
   "execution_count": 3,
   "metadata": {},
   "outputs": [
    {
     "data": {
      "text/plain": [
       "(9, 5)"
      ]
     },
     "execution_count": 3,
     "metadata": {},
     "output_type": "execute_result"
    }
   ],
   "source": [
    "coordenadas = []\n",
    "\n",
    "for i in range(10000):\n",
    "    xo = np.random.randint(0,21)\n",
    "    yo = np.random.randint(0,21)\n",
    "    dx = np.random.randint(1,11)\n",
    "    dy = np.random.randint(1,11)\n",
    "    coordenadas.append( (xo, xo+dx, yo, yo+dy))\n",
    "    \n",
    "(a, b) = (np.random.randint(1,30), np.random.randint(1,30))\n",
    "\n",
    "(a, b)"
   ]
  },
  {
   "cell_type": "code",
   "execution_count": 4,
   "metadata": {},
   "outputs": [
    {
     "data": {
      "text/plain": [
       "((0, 9, 1, 7), 54)"
      ]
     },
     "execution_count": 4,
     "metadata": {},
     "output_type": "execute_result"
    }
   ],
   "source": [
    "coordenadas_rdd = sc.parallelize(coordenadas)\n",
    "\n",
    "def contiene_a_b(x):\n",
    "    return ( (x[0] <= a) and (x[1] >= a) and (x[2] <= b) and (x[3] >= b) )\n",
    "\n",
    "def area(x):\n",
    "    return ((x[1]-x[0])*(x[3]-x[2]))\n",
    "\n",
    "triangulo_minimo = coordenadas_rdd.filter(contiene_a_b)\\\n",
    "                                  .map(lambda x: (x, area(x)))\\\n",
    "                                  .reduce(lambda x,y: min(x, y))\n",
    "\n",
    "triangulo_minimo"
   ]
  },
  {
   "cell_type": "code",
   "execution_count": null,
   "metadata": {},
   "outputs": [],
   "source": []
  }
 ],
 "metadata": {
  "kernelspec": {
   "display_name": "Python 3",
   "language": "python",
   "name": "python3"
  },
  "language_info": {
   "codemirror_mode": {
    "name": "ipython",
    "version": 3
   },
   "file_extension": ".py",
   "mimetype": "text/x-python",
   "name": "python",
   "nbconvert_exporter": "python",
   "pygments_lexer": "ipython3",
   "version": "3.5.3"
  }
 },
 "nbformat": 4,
 "nbformat_minor": 2
}
