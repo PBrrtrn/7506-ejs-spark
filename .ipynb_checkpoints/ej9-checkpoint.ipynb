{
 "cells": [
  {
   "cell_type": "code",
   "execution_count": 1,
   "metadata": {},
   "outputs": [],
   "source": [
    "import pyspark\n",
    "import numpy as np\n",
    "\n",
    "try:\n",
    "    type(sc)\n",
    "except NameError:\n",
    "    sc = pyspark.SparkContext('local[*]')"
   ]
  },
  {
   "cell_type": "code",
   "execution_count": 2,
   "metadata": {},
   "outputs": [],
   "source": [
    "# Patentamientos = (patente, marca, modelo, versión, tipo_vehiculo, provincia, fecha)\n",
    "# Obtener marca y modelo del auto mas patentado por tipo de vehiculo en Buenos Aires, en Abril de 2017"
   ]
  },
  {
   "cell_type": "code",
   "execution_count": 5,
   "metadata": {},
   "outputs": [
    {
     "data": {
      "text/plain": [
       "[('XFS123', 'Fiat', 'Uno', 'M2', 'Sedan', 'Buenos Aires', '2017-04-21'),\n",
       " ('MNN791',\n",
       "  'Volkswagen',\n",
       "  'Amarok',\n",
       "  '2019',\n",
       "  'Camioneta',\n",
       "  'Buenos Aires',\n",
       "  '2019-06-12'),\n",
       " ('RTR836', 'Tesla', 'M', '1', 'Sedan', 'Buenos Aires', '2017-04-02'),\n",
       " ('FFG216', 'Tesla', 'M', '1', 'Sedan', 'Chaco', '2017-04-05'),\n",
       " ('AEN809', 'Tesla', 'M', '1', 'Sedan', 'Mendoza', '2017-04-12')]"
      ]
     },
     "execution_count": 5,
     "metadata": {},
     "output_type": "execute_result"
    }
   ],
   "source": [
    "patentamientos = [\n",
    "    ('XFS123', 'Fiat', 'Uno', 'M2', 'Sedan', 'Buenos Aires', '2017-04-21'),\n",
    "    ('MNN791', 'Volkswagen', 'Amarok', '2019', 'Camioneta', 'Buenos Aires', '2019-06-12'),\n",
    "    ('RTR836', 'Tesla', 'M', '1', 'Sedan', 'Buenos Aires', '2017-04-02'),\n",
    "    ('FFG216', 'Tesla', 'M', '1', 'Sedan', 'Chaco', '2017-04-05'),\n",
    "    ('AEN809', 'Tesla', 'M', '1', 'Sedan', 'Mendoza', '2017-04-12'),\n",
    "    ('JHP223', 'Toyota', 'Hilux', 'R2017', 'Camioneta', 'Buenos Aires', '2017-04-25'),\n",
    "    ('AEE420', 'Fiat', 'Uno', 'M2', 'Sedan', 'Buenos Aires', '2017-04-12'),\n",
    "    ('JRG677', 'Volkswagen', 'Amarok', '2019', 'Camioneta', 'Buenos Aires', '2019-04-01')\n",
    "]\n",
    "\n",
    "patentamientos_rdd = sc.parallelize(patentamientos)\n",
    "\n",
    "patentamientos_rdd.take(5)"
   ]
  },
  {
   "cell_type": "code",
   "execution_count": 9,
   "metadata": {},
   "outputs": [
    {
     "data": {
      "text/plain": [
       "[('Sedan', ('Fiat', 'Uno', 2)), ('Camioneta', ('Toyota', 'Hilux', 1))]"
      ]
     },
     "execution_count": 9,
     "metadata": {},
     "output_type": "execute_result"
    }
   ],
   "source": [
    "def agg_func(x,y):\n",
    "    if x[2] > y[2]:\n",
    "        return x\n",
    "    else: return y\n",
    "\n",
    "mas_patentados = patentamientos_rdd.filter(lambda x: x[5] == 'Buenos Aires' and x[6].startswith('2017-04'))\\\n",
    "                                   .map(lambda x: ((x[1], x[2], x[4]), 1))\\\n",
    "                                   .reduceByKey(lambda x, y: x+y)\\\n",
    "                                   .map(lambda x: (x[0][2], (x[0][0], x[0][1], x[1])))\\\n",
    "                                   .reduceByKey(agg_func)\n",
    "\n",
    "mas_patentados.take(5)"
   ]
  },
  {
   "cell_type": "code",
   "execution_count": null,
   "metadata": {},
   "outputs": [],
   "source": []
  }
 ],
 "metadata": {
  "kernelspec": {
   "display_name": "Python 3",
   "language": "python",
   "name": "python3"
  },
  "language_info": {
   "codemirror_mode": {
    "name": "ipython",
    "version": 3
   },
   "file_extension": ".py",
   "mimetype": "text/x-python",
   "name": "python",
   "nbconvert_exporter": "python",
   "pygments_lexer": "ipython3",
   "version": "3.5.3"
  }
 },
 "nbformat": 4,
 "nbformat_minor": 2
}
