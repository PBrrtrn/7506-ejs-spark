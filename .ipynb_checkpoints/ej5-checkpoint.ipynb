{
 "cells": [
  {
   "cell_type": "code",
   "execution_count": 1,
   "metadata": {},
   "outputs": [],
   "source": [
    "import pyspark\n",
    "\n",
    "try:\n",
    "    type(sc)\n",
    "except NameError:\n",
    "    sc = pyspark.SparkContext('local[*]')"
   ]
  },
  {
   "cell_type": "code",
   "execution_count": 2,
   "metadata": {},
   "outputs": [],
   "source": [
    "# rdd donde cada registro es un texto\n",
    "# hallar todos los anagramas de 7 letras posibles agrupados en listas"
   ]
  },
  {
   "cell_type": "code",
   "execution_count": 3,
   "metadata": {},
   "outputs": [
    {
     "data": {
      "text/plain": [
       "['programming', 'language', 'theory,', 'evaluation,', 'call-by-need']"
      ]
     },
     "execution_count": 3,
     "metadata": {},
     "output_type": "execute_result"
    }
   ],
   "source": [
    "textos = ('In programming language theory, lazy evaluation, or call-by-need is an evaluation strategy which delays the evaluation of an expression until its value is needed (non-strict evaluation) and which also avoids repeated evaluations (sharing).',\n",
    "         'Haskell Brooks Curry was an American mathematician and logician. Curry is best known for his work in combinatory logic. While the initial concept of combinatory logic was based on a single paper by Moses Schönfinkel, Curry did much of the development. ',\n",
    "         'Haskell is a statically typed, purely functional programming language with type inference and lazy evaluation. Type classes, which enable type-safe operator overloading, were first proposed by Philip Wadler and Stephen Blott for Standard ML and implemented later in Haskell.',\n",
    "         'Scala is a general-purpose programming language providing support for functional programming and a strong static type system. Designed to be concise, many of Scalas design decisions aimed to address criticisms of Java.',\n",
    "         'Senior management, executive management, upper management, or a management team is generally a team of individuals at the highest level of management of an organization who have the day-to-day tasks of managing that organization—sometimes a company or a corporation. ',\n",
    "         'A chief technology officer (CTO), sometimes known as a chief technical officer or chief technologist, is an executive-level position in a company or other entity whose occupation is focused on scientific and technological issues within an organization')\n",
    "\n",
    "textos_rdd = sc.parallelize(textos)\\\n",
    "               .flatMap(lambda x: x.split())\\\n",
    "               .filter(lambda x: len(x) >= 7)\\\n",
    "               .map(lambda x: x.lower())\n",
    "\n",
    "textos_rdd.take(5)"
   ]
  },
  {
   "cell_type": "code",
   "execution_count": 4,
   "metadata": {},
   "outputs": [
    {
     "data": {
      "text/plain": [
       "[]"
      ]
     },
     "execution_count": 4,
     "metadata": {},
     "output_type": "execute_result"
    }
   ],
   "source": [
    "anagramas = textos_rdd.map(lambda x: (tuple(sorted(x)),x))\\\n",
    "                      .groupByKey()\\\n",
    "                      .mapValues(set)\\\n",
    "                      .filter(lambda x: len(x[1]) > 1)\\\n",
    "                      .map(lambda x: list(x[1]))\n",
    "\n",
    "anagramas.take(5)"
   ]
  },
  {
   "cell_type": "code",
   "execution_count": null,
   "metadata": {},
   "outputs": [],
   "source": []
  }
 ],
 "metadata": {
  "kernelspec": {
   "display_name": "Python 3",
   "language": "python",
   "name": "python3"
  },
  "language_info": {
   "codemirror_mode": {
    "name": "ipython",
    "version": 3
   },
   "file_extension": ".py",
   "mimetype": "text/x-python",
   "name": "python",
   "nbconvert_exporter": "python",
   "pygments_lexer": "ipython3",
   "version": "3.5.3"
  }
 },
 "nbformat": 4,
 "nbformat_minor": 2
}
