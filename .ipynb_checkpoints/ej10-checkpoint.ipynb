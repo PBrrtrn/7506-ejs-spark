{
 "cells": [
  {
   "cell_type": "code",
   "execution_count": 1,
   "metadata": {},
   "outputs": [],
   "source": [
    "import pyspark\n",
    "import numpy as np\n",
    "\n",
    "try:\n",
    "    type(sc)\n",
    "except NameError:\n",
    "    sc = pyspark.SparkContext('local[*]')"
   ]
  },
  {
   "cell_type": "code",
   "execution_count": 2,
   "metadata": {},
   "outputs": [],
   "source": [
    "# Ventas = (id_videojuego, codigo_pais, fecha, visitas_diarias, total_ventas_diarias)\n",
    "# Videojuegos = (id_videojuego, titulo, rating_pegi, rating_esbr)\n",
    "\n",
    "# a) Obtener el videojuego con mas ventas globales en formato (id_videojuego, titulo, n_ventas)\n",
    "# b) Para el videojuego con mas ventas, obtener el pais con el mayor ratio ventas_diarias/visitas_diarias"
   ]
  },
  {
   "cell_type": "code",
   "execution_count": 3,
   "metadata": {},
   "outputs": [
    {
     "data": {
      "text/plain": [
       "[(1, 1, '11-02-2018', 250, 150),\n",
       " (1, 1, '12-02-2018', 400, 150),\n",
       " (1, 2, '11-02-2018', 600, 75),\n",
       " (1, 2, '12-02-2018', 400, 20),\n",
       " (2, 1, '11-02-2018', 400, 100)]"
      ]
     },
     "execution_count": 3,
     "metadata": {},
     "output_type": "execute_result"
    }
   ],
   "source": [
    "ventas = [\n",
    "    (1, 1, '11-02-2018', 250, 150),\n",
    "    (1, 1, '12-02-2018', 400, 150),\n",
    "    (1, 2, '11-02-2018', 600, 75),\n",
    "    (1, 2, '12-02-2018', 400, 20),\n",
    "    (2, 1, '11-02-2018', 400, 100),\n",
    "    (2, 1, '12-02-2018', 500, 130),\n",
    "    (2, 2, '11-02-2018', 600, 200),\n",
    "    (2, 2, '12-02-2018', 550, 180)\n",
    "]\n",
    "\n",
    "videojuegos = [\n",
    "    (1, 'Splatoon', 'PEGI 9', 'E10+'),\n",
    "    (2, 'Monster Hunter World', 'PEGI 16', 'T')\n",
    "]\n",
    "\n",
    "ventas_rdd = sc.parallelize(ventas)\n",
    "videojuegos_rdd = sc.parallelize(videojuegos)\n",
    "\n",
    "ventas_rdd.take(5)"
   ]
  },
  {
   "cell_type": "code",
   "execution_count": 14,
   "metadata": {},
   "outputs": [
    {
     "name": "stdout",
     "output_type": "stream",
     "text": [
      "El juego con mas ventas es el #2 (Monster Hunter World) con 610 ventas\n"
     ]
    }
   ],
   "source": [
    "videojuego_con_mas_ventas = ventas_rdd.map(lambda x: (x[0], x[4]))\\\n",
    "                                      .reduceByKey(lambda x,y: x+y)\\\n",
    "                                      .join(videojuegos_rdd)\\\n",
    "                                      .map(lambda x: (x[0], x[1][1], x[1][0]))\\\n",
    "                                      .top(1, key= lambda x: x[2])\n",
    "\n",
    "print(\"El juego con mas ventas es el #%s (%s) con %i ventas\" % videojuego_con_mas_ventas[0])"
   ]
  },
  {
   "cell_type": "code",
   "execution_count": 22,
   "metadata": {},
   "outputs": [
    {
     "data": {
      "text/plain": [
       "[(2, 0.33043478260869563)]"
      ]
     },
     "execution_count": 22,
     "metadata": {},
     "output_type": "execute_result"
    }
   ],
   "source": [
    "pais_con_mayor_ratio = ventas_rdd.filter(lambda x: x[0] == videojuego_con_mas_ventas[0][0])\\\n",
    "                                 .map(lambda x: (x[1], (x[3], x[4])))\\\n",
    "                                 .reduceByKey(lambda x,y: (x[0]+y[0], x[1]+y[1]) )\\\n",
    "                                 .map(lambda x: (x[0], x[1][1]/x[1][0]) )\\\n",
    "                                 .top(1, key= lambda x: x[1])\n",
    "\n",
    "pais_con_mayor_ratio"
   ]
  },
  {
   "cell_type": "code",
   "execution_count": null,
   "metadata": {},
   "outputs": [],
   "source": []
  }
 ],
 "metadata": {
  "kernelspec": {
   "display_name": "Python 3",
   "language": "python",
   "name": "python3"
  },
  "language_info": {
   "codemirror_mode": {
    "name": "ipython",
    "version": 3
   },
   "file_extension": ".py",
   "mimetype": "text/x-python",
   "name": "python",
   "nbconvert_exporter": "python",
   "pygments_lexer": "ipython3",
   "version": "3.5.3"
  }
 },
 "nbformat": 4,
 "nbformat_minor": 2
}
