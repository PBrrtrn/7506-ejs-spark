{
 "cells": [
  {
   "cell_type": "code",
   "execution_count": 1,
   "metadata": {},
   "outputs": [],
   "source": [
    "import pyspark\n",
    "import numpy as np\n",
    "from datetime import datetime as dt\n",
    "\n",
    "try:\n",
    "    type(sc)\n",
    "except NameError:\n",
    "    sc = pyspark.SparkContext('local[*]')"
   ]
  },
  {
   "cell_type": "code",
   "execution_count": 2,
   "metadata": {},
   "outputs": [],
   "source": [
    "# rdd de ventas = (fecha de venta, código de producto, precio de venta)\n",
    "# rdd de productos = (codigo, descripcion, categoria)\n",
    "# A) Producto mas vendido\n",
    "# B) Categoria de productos mas vendida\n",
    "# C) top 5 de productos mas vendidos en un rdd de la forma [(codigo, descripcion, cantidad de ventas)]\n",
    "# D) producto que registro mayor aumento de precios en el ultimo año, contando solo aquellos que vendieron mas de 50 productos\n",
    "# E) categoria de productos que mas aumento en el ultimo año"
   ]
  },
  {
   "cell_type": "code",
   "execution_count": 3,
   "metadata": {},
   "outputs": [
    {
     "data": {
      "text/plain": [
       "[(datetime.datetime(1998, 11, 23, 0, 0), 6, 112),\n",
       " (datetime.datetime(2014, 8, 6, 0, 0), 6, 79),\n",
       " (datetime.datetime(2012, 9, 19, 0, 0), 3, 127),\n",
       " (datetime.datetime(2016, 10, 16, 0, 0), 2, 70),\n",
       " (datetime.datetime(2010, 9, 18, 0, 0), 5, 60)]"
      ]
     },
     "execution_count": 3,
     "metadata": {},
     "output_type": "execute_result"
    }
   ],
   "source": [
    "productos = [\n",
    "    (1, 'pituto que va en el cosito', 1),\n",
    "    (2, 'cosito que va en el pituto', 1),\n",
    "    (3, 'dulce de membrillo', 2),\n",
    "    (4, 'tomates en conserva', 2),\n",
    "    (5, 'tomates', 2),\n",
    "    (6, 'conserva', 3)\n",
    "]\n",
    "\n",
    "def get_random_id():\n",
    "    return np.random.randint(1, 7)\n",
    "\n",
    "def get_random_price():\n",
    "    return np.random.randint(50, 150)\n",
    "\n",
    "def get_random_date():\n",
    "    day = np.random.randint(1, 28)\n",
    "    month = np.random.randint(1, 12)\n",
    "    year = np.random.randint(1995, 2020)\n",
    "    return dt.strptime((\"%s-%s-%s\" % (month, day, year)), '%m-%d-%Y')\n",
    "\n",
    "ventas = []\n",
    "for i in range (1, 7000):\n",
    "    ventas.append( (get_random_date(), get_random_id(), get_random_price()) )\n",
    "    \n",
    "productos_rdd = sc.parallelize(productos) \n",
    "    \n",
    "ventas_rdd = sc.parallelize(ventas)\n",
    "ventas_rdd.take(5)"
   ]
  },
  {
   "cell_type": "code",
   "execution_count": 4,
   "metadata": {
    "scrolled": false
   },
   "outputs": [
    {
     "data": {
      "text/plain": [
       "[(2, 1217)]"
      ]
     },
     "execution_count": 4,
     "metadata": {},
     "output_type": "execute_result"
    }
   ],
   "source": [
    "producto_mas_vendido = ventas_rdd.map(lambda x: (x[1], 1))\\\n",
    "                                 .reduceByKey(lambda x, y: x + y)\\\n",
    "                                 .top(1, key=lambda x: x[1])\n",
    "producto_mas_vendido"
   ]
  },
  {
   "cell_type": "code",
   "execution_count": 5,
   "metadata": {},
   "outputs": [
    {
     "data": {
      "text/plain": [
       "[(2, 3469)]"
      ]
     },
     "execution_count": 5,
     "metadata": {},
     "output_type": "execute_result"
    }
   ],
   "source": [
    "productos_con_categoria = productos_rdd.map(lambda x: (x[0], x[2]))\n",
    "\n",
    "categoria_mas_vendida = ventas_rdd.map(lambda x: ((x[1]), 1))\\\n",
    "                                  .reduceByKey(lambda x, y: x + y)\\\n",
    "                                  .join(productos_con_categoria)\\\n",
    "                                  .map(lambda x: (x[1][1], x[1][0]))\\\n",
    "                                  .reduceByKey(lambda x, y: x + y)\\\n",
    "                                  .top(1, key= lambda x: x[1])\n",
    "categoria_mas_vendida"
   ]
  },
  {
   "cell_type": "code",
   "execution_count": 6,
   "metadata": {},
   "outputs": [
    {
     "data": {
      "text/plain": [
       "[(2, 1217), (6, 1178), (4, 1158), (5, 1157), (3, 1154)]"
      ]
     },
     "execution_count": 6,
     "metadata": {},
     "output_type": "execute_result"
    }
   ],
   "source": [
    "top5_mas_vendidos = ventas_rdd.map(lambda x: (x[1], 1))\\\n",
    "                              .reduceByKey(lambda x, y: x + y)\\\n",
    "                              .top(5, key=lambda x: x[1])\n",
    "\n",
    "top5_mas_vendidos"
   ]
  },
  {
   "cell_type": "code",
   "execution_count": 7,
   "metadata": {},
   "outputs": [
    {
     "name": "stdout",
     "output_type": "stream",
     "text": [
      "El articulo con mayor variacion fue #1 con $99\n"
     ]
    }
   ],
   "source": [
    "cutoff_date = dt.strptime('11-16-2018', '%m-%d-%Y')\n",
    "\n",
    "ventas_2018 = ventas_rdd.filter(lambda x: x[0] > cutoff_date)\n",
    "\n",
    "productos_con_ventas = ventas_2018.map(lambda x: (x[1], 1) )\\\n",
    "                                 .reduceByKey(lambda x,y: x+y)\\\n",
    "                                 .filter(lambda x: x[1] > 50)\\\n",
    "\n",
    "mayor_variacion = ventas_2018.map(lambda x: (x[1], (x[2])))\\\n",
    "                             .join(productos_con_ventas)\\\n",
    "                             .map(lambda x: (x[0], (x[1][0], x[1][0])))\\\n",
    "                             .reduceByKey(lambda x,y: (max(x[0],y[0]), min(x[1],y[1])))\\\n",
    "                             .map(lambda x: (x[0], x[1][0]-x[1][1]))\\\n",
    "                             .top(1, key=lambda x: x[1])\n",
    "\n",
    "print(\"El articulo con mayor variacion fue #%i con $%i\" % mayor_variacion[0])"
   ]
  },
  {
   "cell_type": "code",
   "execution_count": 8,
   "metadata": {},
   "outputs": [
    {
     "data": {
      "text/plain": [
       "[(1, 28)]"
      ]
     },
     "execution_count": 8,
     "metadata": {},
     "output_type": "execute_result"
    }
   ],
   "source": [
    "categorias_por_producto = productos_rdd.map(lambda x: (x[0], x[2]))\n",
    "\n",
    "ventas_con_categorias = ventas_rdd.map(lambda x: (x[1], (x[0], x[2])))\\\n",
    "                                  .join(categorias_por_producto)\\\n",
    "                                  .map(lambda x: (x[1][1], (x[1][0]) ))\\\n",
    "                                  .filter(lambda x: x[1][0] > cutoff_date)\n",
    "# id_categoria, (fecha, precio))\n",
    "\n",
    "categorias_con_50_ventas = ventas_con_categorias.map(lambda x: (x[0], 1))\\\n",
    "                                                .reduceByKey(lambda x, y: (x+y))\\\n",
    "                                                .filter(lambda x: x[1] > 50)\\\n",
    "\n",
    "mayor_variacion_categoria = ventas_con_categorias.join(categorias_con_50_ventas)\\\n",
    "                                                 .map(lambda x: (x[0], (x[1][0][1], x[1][0][1])) )\\\n",
    "                                                 .reduceByKey(lambda x, y: ((max(x[0], y[0]), min(x[0], y[0]))))\\\n",
    "                                                 .map(lambda x: (x[0], x[1][0] - x[1][1]) )\\\n",
    "                                                 .top(1, key=lambda x: x[1])\n",
    "\n",
    "mayor_variacion_categoria"
   ]
  },
  {
   "cell_type": "code",
   "execution_count": null,
   "metadata": {},
   "outputs": [],
   "source": []
  }
 ],
 "metadata": {
  "kernelspec": {
   "display_name": "Python 3",
   "language": "python",
   "name": "python3"
  },
  "language_info": {
   "codemirror_mode": {
    "name": "ipython",
    "version": 3
   },
   "file_extension": ".py",
   "mimetype": "text/x-python",
   "name": "python",
   "nbconvert_exporter": "python",
   "pygments_lexer": "ipython3",
   "version": "3.5.3"
  }
 },
 "nbformat": 4,
 "nbformat_minor": 2
}
